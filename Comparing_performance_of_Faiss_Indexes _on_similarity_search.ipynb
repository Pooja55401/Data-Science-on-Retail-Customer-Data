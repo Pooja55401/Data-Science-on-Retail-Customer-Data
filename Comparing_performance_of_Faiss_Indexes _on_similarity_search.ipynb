{
  "nbformat": 4,
  "nbformat_minor": 0,
  "metadata": {
    "colab": {
      "provenance": []
    },
    "kernelspec": {
      "name": "python3",
      "display_name": "Python 3"
    },
    "language_info": {
      "name": "python"
    }
  },
  "cells": [
    {
      "cell_type": "markdown",
      "source": [
        "##Nearest Neighbor Indexes for Similarity Search (Faiss)\n",
        "In this notebook we will compare some of the most important indexes — Flat, IVF, LSH, HNSW. We will learn how we decide which to use and the impact of parameters in each index."
      ],
      "metadata": {
        "id": "ur312DDmW8Ux"
      }
    },
    {
      "cell_type": "code",
      "execution_count": 36,
      "metadata": {
        "id": "Zzu0wk0lagD6"
      },
      "outputs": [],
      "source": [
        "#importing the libraries\n",
        "\n",
        "import pandas as pd\n",
        "import numpy as np\n",
        "import datetime as dt\n",
        "import time "
      ]
    },
    {
      "cell_type": "code",
      "source": [
        "#loading the data into dataframe\n",
        "df=pd.read_csv(\"/content/products.csv\")"
      ],
      "metadata": {
        "id": "mengdrwDatOL"
      },
      "execution_count": null,
      "outputs": []
    },
    {
      "cell_type": "code",
      "source": [
        "%pip install faiss-cpu ##Installing GPU version of faiss"
      ],
      "metadata": {
        "id": "StjEeAO7diOp"
      },
      "execution_count": null,
      "outputs": []
    },
    {
      "cell_type": "code",
      "source": [
        "%pip install sentence_transformers ## For textual similarity, using pretrained models"
      ],
      "metadata": {
        "id": "qWN-YESCiKUd"
      },
      "execution_count": null,
      "outputs": []
    },
    {
      "cell_type": "code",
      "source": [
        "import faiss\n",
        "from sentence_transformers import SentenceTransformer, util"
      ],
      "metadata": {
        "id": "xp7WICUsdjDt"
      },
      "execution_count": 45,
      "outputs": []
    },
    {
      "cell_type": "code",
      "source": [
        "# preparing data to feed into the SentenceTransformer model\n",
        "\n",
        "prod=df.product_name.drop_duplicates()\n",
        "sentences=prod.tolist()\n",
        "print(\"Number of Unique Sentences in Product Name \",len(sentences))"
      ],
      "metadata": {
        "id": "bJqH9it0Wdws"
      },
      "execution_count": null,
      "outputs": []
    },
    {
      "cell_type": "code",
      "source": [
        "# Using pretrained BERT for item embeddings.On GPU Loads the distil roberta model,which was trained on millions of data\n",
        "model = SentenceTransformer('paraphrase-distilroberta-base-v1') "
      ],
      "metadata": {
        "id": "PSeyb_McWz_a"
      },
      "execution_count": null,
      "outputs": []
    },
    {
      "cell_type": "code",
      "source": [
        "#Generating embeddings for each product\n",
        "\n",
        "embeddings=model.encode(sentences)"
      ],
      "metadata": {
        "id": "IrvuKaloWe1s"
      },
      "execution_count": null,
      "outputs": []
    },
    {
      "cell_type": "code",
      "source": [
        "# saving the embeddings for future purposes\n",
        "np.save('content\\embeddings.npy', embeddings)"
      ],
      "metadata": {
        "id": "6bFjuRfvWe-0"
      },
      "execution_count": null,
      "outputs": []
    },
    {
      "cell_type": "code",
      "source": [
        "#loading the embeddings\n",
        "all_embeddings=np.load('embeddings.npy')"
      ],
      "metadata": {
        "id": "du55KPh5douA"
      },
      "execution_count": 47,
      "outputs": []
    },
    {
      "cell_type": "code",
      "source": [
        "#dim of bert embedding [1, 768]\n",
        "d = all_embeddings.shape[1]"
      ],
      "metadata": {
        "id": "qp7ImcFvd97T"
      },
      "execution_count": 48,
      "outputs": []
    },
    {
      "cell_type": "markdown",
      "source": [
        "###Performing exhaustive search with Faiss: Flat Index"
      ],
      "metadata": {
        "id": "_725pxkqMZKB"
      }
    },
    {
      "cell_type": "code",
      "source": [
        "index = faiss.IndexFlatL2(d)\n",
        "index.is_trained"
      ],
      "metadata": {
        "colab": {
          "base_uri": "https://localhost:8080/"
        },
        "id": "s1imEUsHgsql",
        "outputId": "bf7b3967-5cf0-4c40-f07b-7d7cd6e9599c"
      },
      "execution_count": 49,
      "outputs": [
        {
          "output_type": "execute_result",
          "data": {
            "text/plain": [
              "True"
            ]
          },
          "metadata": {},
          "execution_count": 49
        }
      ]
    },
    {
      "cell_type": "code",
      "source": [
        "index.add(all_embeddings)\n",
        "index.ntotal"
      ],
      "metadata": {
        "colab": {
          "base_uri": "https://localhost:8080/"
        },
        "id": "A0pmIMxJg8nW",
        "outputId": "0777e1ff-878c-4647-bff5-9b8d03db9384"
      },
      "execution_count": 50,
      "outputs": [
        {
          "output_type": "execute_result",
          "data": {
            "text/plain": [
              "49688"
            ]
          },
          "metadata": {},
          "execution_count": 50
        }
      ]
    },
    {
      "cell_type": "code",
      "source": [
        "start=time.time()\n",
        "D, I =index.search(all_embeddings, 15)  # search\n",
        "end=time.time()\n",
        "print(\"Time taken for flat search\", (end-start))"
      ],
      "metadata": {
        "colab": {
          "base_uri": "https://localhost:8080/"
        },
        "id": "wWDZ8xHSmZOe",
        "outputId": "9a745c49-c37e-4244-c399-83b4e8e08171"
      },
      "execution_count": 52,
      "outputs": [
        {
          "output_type": "stream",
          "name": "stdout",
          "text": [
            "Time taken for falt search 72.22247099876404\n"
          ]
        }
      ]
    },
    {
      "cell_type": "code",
      "source": [
        "#time taken by exhaustive search\n",
        "Flat_time=(end-start)"
      ],
      "metadata": {
        "id": "NoyNQkyZn918"
      },
      "execution_count": 54,
      "outputs": []
    },
    {
      "cell_type": "markdown",
      "source": [
        "###Faiss with Inverted File Index(IVF)"
      ],
      "metadata": {
        "id": "ZIV2l54aMzaP"
      }
    },
    {
      "cell_type": "code",
      "source": [
        "nlist = 64  # how many cells\n",
        "quantizer = faiss.IndexFlatL2(d)\n",
        "index_IVF = faiss.IndexIVFFlat(quantizer, d, nlist)"
      ],
      "metadata": {
        "id": "-G4_8Kc_hGcD"
      },
      "execution_count": 55,
      "outputs": []
    },
    {
      "cell_type": "code",
      "source": [
        "#to check if index_IVF is trained. It's False as in case of IVF we have to train the index\n",
        "index_IVF.is_trained"
      ],
      "metadata": {
        "colab": {
          "base_uri": "https://localhost:8080/"
        },
        "id": "SzpgUaXvnXxz",
        "outputId": "ff84985d-9e3b-409c-ad64-09b691077e8f"
      },
      "execution_count": 56,
      "outputs": [
        {
          "output_type": "execute_result",
          "data": {
            "text/plain": [
              "False"
            ]
          },
          "metadata": {},
          "execution_count": 56
        }
      ]
    },
    {
      "cell_type": "code",
      "source": [
        "index_IVF.train(all_embeddings)\n",
        "index_IVF.is_trained  # check if index is now trained"
      ],
      "metadata": {
        "colab": {
          "base_uri": "https://localhost:8080/"
        },
        "id": "Xq3AzQj7nZRu",
        "outputId": "e0d9ec20-5edd-4c07-b5e5-fe9d49a8e490"
      },
      "execution_count": 57,
      "outputs": [
        {
          "output_type": "execute_result",
          "data": {
            "text/plain": [
              "True"
            ]
          },
          "metadata": {},
          "execution_count": 57
        }
      ]
    },
    {
      "cell_type": "code",
      "source": [
        "index_IVF.add(all_embeddings)\n",
        "index_IVF.ntotal  # number of embeddings indexed"
      ],
      "metadata": {
        "colab": {
          "base_uri": "https://localhost:8080/"
        },
        "id": "7F8U-PPbqNlJ",
        "outputId": "49703b0c-f2a5-499b-ad37-3ede85949955"
      },
      "execution_count": 58,
      "outputs": [
        {
          "output_type": "execute_result",
          "data": {
            "text/plain": [
              "49688"
            ]
          },
          "metadata": {},
          "execution_count": 58
        }
      ]
    },
    {
      "cell_type": "code",
      "source": [
        "#%%time taken by IVF to find top 15 Nearest Neighbors for each unique item in the datset\n",
        "start=time.time()\n",
        "D_IVF, I_IVF = index_IVF.search(all_embeddings, 15)  # search\n",
        "end=time.time()\n",
        "IVF_time=(end-start)\n",
        "IVF_time"
      ],
      "metadata": {
        "colab": {
          "base_uri": "https://localhost:8080/"
        },
        "id": "7QKl2mKKqaGW",
        "outputId": "43dc9f55-b24a-41a8-9282-8b5563993ac0"
      },
      "execution_count": 59,
      "outputs": [
        {
          "output_type": "execute_result",
          "data": {
            "text/plain": [
              "37.35497236251831"
            ]
          },
          "metadata": {},
          "execution_count": 59
        }
      ]
    },
    {
      "cell_type": "code",
      "source": [
        "#searching in 10 more near by cells\n",
        "index_IVF.nprobe = 10 "
      ],
      "metadata": {
        "id": "Y9WxZSvwwLsW"
      },
      "execution_count": 60,
      "outputs": []
    },
    {
      "cell_type": "code",
      "source": [
        "m = 48  # number of centroid IDs in final compressed vectors\n",
        "bits = 8 # number of bits in each centroid\n",
        "\n",
        "quantizer = faiss.IndexFlatL2(d)  # we keep the same L2 distance flat index\n",
        "index_PQ = faiss.IndexIVFPQ(quantizer, d, nlist, m, bits) "
      ],
      "metadata": {
        "id": "t6hx4rxes22_"
      },
      "execution_count": 61,
      "outputs": []
    },
    {
      "cell_type": "code",
      "source": [
        "index_PQ.is_trained"
      ],
      "metadata": {
        "colab": {
          "base_uri": "https://localhost:8080/"
        },
        "id": "coVKUHI3wk1G",
        "outputId": "59000c2e-b0a8-446c-8368-187fa568f770"
      },
      "execution_count": 62,
      "outputs": [
        {
          "output_type": "execute_result",
          "data": {
            "text/plain": [
              "False"
            ]
          },
          "metadata": {},
          "execution_count": 62
        }
      ]
    },
    {
      "cell_type": "code",
      "source": [
        "index_PQ.train(all_embeddings)\n",
        "index_PQ.add(all_embeddings)"
      ],
      "metadata": {
        "id": "H7Miab5qwqLw"
      },
      "execution_count": 63,
      "outputs": []
    },
    {
      "cell_type": "code",
      "source": [
        "index_PQ.nprobe = 10  # align to previous IndexIVFFlat nprobe value"
      ],
      "metadata": {
        "id": "LD3rD86Ww10v"
      },
      "execution_count": 64,
      "outputs": []
    },
    {
      "cell_type": "code",
      "source": [
        "#%%time taken by IVF with product quantization to find top 15 Nearest Neighbors for each unique item in the datset\n",
        "start=time.time()\n",
        "D_PQ, I_PQ = index_PQ.search(all_embeddings, 15)  # search\n",
        "end=time.time()\n",
        "PQ_time=(end-start)\n",
        "PQ_time"
      ],
      "metadata": {
        "colab": {
          "base_uri": "https://localhost:8080/"
        },
        "id": "FRKvlhA8yEB0",
        "outputId": "2e5655c5-5179-4686-9bea-a45c3e8f8b45"
      },
      "execution_count": 67,
      "outputs": [
        {
          "output_type": "execute_result",
          "data": {
            "text/plain": [
              "31.19085168838501"
            ]
          },
          "metadata": {},
          "execution_count": 67
        }
      ]
    },
    {
      "cell_type": "markdown",
      "source": [
        "###Faiss with Locality Sensitive Hashing(LSH)"
      ],
      "metadata": {
        "id": "t-VYjT7BOdZI"
      }
    },
    {
      "cell_type": "code",
      "source": [
        "#number of hyperplanes\n",
        "nbits = 128\n",
        "\n",
        "# initialize the index using our vectors dimensionality (128) and nbits\n",
        "index_LSH = faiss.IndexLSH(d, nbits)\n",
        "# then add the data\n",
        "index_LSH.train(all_embeddings)\n",
        "index_LSH.add(all_embeddings)"
      ],
      "metadata": {
        "id": "3_cgCjuRyz2U"
      },
      "execution_count": 213,
      "outputs": []
    },
    {
      "cell_type": "code",
      "source": [
        "#%%time\n",
        "start=time.time()\n",
        "D_LSH, I_LSH = index_LSH.search(all_embeddings, k=15)\n",
        "end=time.time()\n",
        "LSH_time=(end-start)\n",
        "LSH_time"
      ],
      "metadata": {
        "colab": {
          "base_uri": "https://localhost:8080/"
        },
        "id": "7Z0mEI163NUr",
        "outputId": "8a5022a0-1e27-4822-c651-a169538e964d"
      },
      "execution_count": 214,
      "outputs": [
        {
          "output_type": "execute_result",
          "data": {
            "text/plain": [
              "27.79438614845276"
            ]
          },
          "metadata": {},
          "execution_count": 214
        }
      ]
    },
    {
      "cell_type": "code",
      "source": [
        "# we can retrieve the original vectors from wb using I\n",
        "all_embeddings[I_LSH[0]].shape"
      ],
      "metadata": {
        "colab": {
          "base_uri": "https://localhost:8080/"
        },
        "id": "-cMnMF-F3slk",
        "outputId": "4c0940d7-13f6-4154-d543-f850b43573f2"
      },
      "execution_count": 70,
      "outputs": [
        {
          "output_type": "execute_result",
          "data": {
            "text/plain": [
              "(15, 768)"
            ]
          },
          "metadata": {},
          "execution_count": 70
        }
      ]
    },
    {
      "cell_type": "code",
      "source": [
        "#time to search Nearest Neighbors with increasing number of hyperplanes\n",
        "time_LSH=[]\n",
        "for nbits in [2, 4, 8, 16, 24, 32,64,128,256, 512,768]:\n",
        "    index_LSH_test = faiss.IndexLSH(d, nbits)\n",
        "    index_LSH_test.add(all_embeddings)\n",
        "    start=time.time()\n",
        "    D_LSH_test, I_LSH_test = index_LSH_test.search(all_embeddings, k=15)\n",
        "    end=time.time()\n",
        "    print(\"TIME TAKEN with\", nbits, \"=\",(end-start))\n",
        "    time_LSH.append((nbits,(end-start)))"
      ],
      "metadata": {
        "colab": {
          "base_uri": "https://localhost:8080/"
        },
        "id": "su7hNWYD4bs7",
        "outputId": "5e1194e0-f03b-4945-c93d-412dc97a1c8e"
      },
      "execution_count": 74,
      "outputs": [
        {
          "output_type": "stream",
          "name": "stdout",
          "text": [
            "TIME TAKEN with 2 = 10.777793645858765\n",
            "TIME TAKEN with 4 = 9.569596529006958\n",
            "TIME TAKEN with 8 = 11.137335062026978\n",
            "TIME TAKEN with 16 = 13.263124942779541\n",
            "TIME TAKEN with 24 = 15.822367429733276\n",
            "TIME TAKEN with 32 = 15.129590272903442\n",
            "TIME TAKEN with 64 = 14.924017190933228\n",
            "TIME TAKEN with 128 = 25.843615770339966\n",
            "TIME TAKEN with 256 = 45.898590087890625\n",
            "TIME TAKEN with 512 = 112.19481587409973\n",
            "TIME TAKEN with 768 = 162.82570099830627\n"
          ]
        }
      ]
    },
    {
      "cell_type": "code",
      "source": [
        "#ploting lineplot of No. of hyperplanes vs time to search using seaborn\n",
        "\n",
        "x=[i[0] for i in time_LSH]\n",
        "y=[i[1] for i in time_LSH]\n",
        "df_LSH=pd.DataFrame({\"nbits\":x, \"time\":y})\n",
        "\n",
        "import matplotlib.pyplot as plt\n",
        "import seaborn as sns\n",
        "\n",
        "plt.figure(figsize=(15,6))\n",
        "sns.lineplot(x = \"nbits\", y = \"time\", data=df_LSH.iloc[:8]).set(title='No. of hyperplanes vs time to search Nearest Neighbors for 49688 queries')\n",
        "plt.show()"
      ],
      "metadata": {
        "colab": {
          "base_uri": "https://localhost:8080/",
          "height": 404
        },
        "id": "m3bMU_xi7z5Z",
        "outputId": "d4f41ead-8de1-4717-c7fa-2f170227084f"
      },
      "execution_count": 259,
      "outputs": [
        {
          "output_type": "display_data",
          "data": {
            "text/plain": [
              "<Figure size 1080x432 with 1 Axes>"
            ],
            "image/png": "[encoded data removed]"
          },
          "metadata": {
            "needs_background": "light"
          }
        }
      ]
    },
    {
      "cell_type": "code",
      "source": [
        "df_LSH['log(nbits)']=np.log2(df_LSH['nbits'])\n",
        "plt.figure(figsize=(15,6))\n",
        "sns.lineplot(x = \"log(nbits)\", y = \"time\", data=df_LSH).set(title='log of No. of hyperplanes vs time to search Nearest Neighbors for 49688 queries')\n",
        "plt.show()"
      ],
      "metadata": {
        "colab": {
          "base_uri": "https://localhost:8080/",
          "height": 404
        },
        "id": "XnksBGRUhTrO",
        "outputId": "79d095a3-2646-4aeb-d5b8-2b612f9c97e1"
      },
      "execution_count": 260,
      "outputs": [
        {
          "output_type": "display_data",
          "data": {
            "text/plain": [
              "<Figure size 1080x432 with 1 Axes>"
            ],
            "image/png": "[encoded data removed]"
          },
          "metadata": {
            "needs_background": "light"
          }
        }
      ]
    },
    {
      "cell_type": "markdown",
      "source": [
        "### Faiss with Hierarchical Navigable Small World Graphs(HNSW)"
      ],
      "metadata": {
        "id": "u6fcLHYISEqR"
      }
    },
    {
      "cell_type": "code",
      "source": [
        "# setup our HNSW parameters\n",
        "M = 32\n",
        "index_HNSW=faiss.IndexHNSWFlat(d, M)"
      ],
      "metadata": {
        "id": "YfxUa8uX9HUO"
      },
      "execution_count": 225,
      "outputs": []
    },
    {
      "cell_type": "code",
      "source": [
        "#index.hnsw.efConstruction = efConstruction\n",
        "index_HNSW.add(all_embeddings)  # build the index\n",
        "#index.hnsw.efSearch = efSearch\n"
      ],
      "metadata": {
        "id": "USEUcN3gBpxy"
      },
      "execution_count": 226,
      "outputs": []
    },
    {
      "cell_type": "code",
      "source": [
        "# seaech time\n",
        "\n",
        "start=time.time()\n",
        "D_HNSW, I_HNSW = index_HNSW.search(all_embeddings, k=15)\n",
        "end=time.time()\n",
        "HNSW_time=(end-start)\n",
        "HNSW_time"
      ],
      "metadata": {
        "colab": {
          "base_uri": "https://localhost:8080/"
        },
        "id": "oLtU4I4DE9Gd",
        "outputId": "df7a50ac-7bbd-410c-b9ed-fb822fb49872"
      },
      "execution_count": 227,
      "outputs": [
        {
          "output_type": "execute_result",
          "data": {
            "text/plain": [
              "26.332139253616333"
            ]
          },
          "metadata": {},
          "execution_count": 227
        }
      ]
    },
    {
      "cell_type": "code",
      "source": [
        "x={\"Index_Flat\":Flat_time, \"Index_IVF\":IVF_time,\"Index_IVF_PQ\":PQ_time,\"Index_LSH\":LSH_time,\"Index_HNSW\":HNSW_time}"
      ],
      "metadata": {
        "id": "QfcI1JrkCAvA"
      },
      "execution_count": 257,
      "outputs": []
    },
    {
      "cell_type": "code",
      "source": [
        "# Comparing serach time of all the indexes\n",
        "\n",
        "import matplotlib.pyplot as plt\n",
        "\n",
        "plt.figure(figsize=(10,6))\n",
        "plt.bar(*zip(*x.items()))\n",
        "plt.xlabel(\"Index_Type\")\n",
        "plt.ylabel(\"Search time in sec\")\n",
        "plt.title(\"Time taken by each index to search Nearest Neighbors for 49688 queries\")\n",
        "plt.show()"
      ],
      "metadata": {
        "colab": {
          "base_uri": "https://localhost:8080/",
          "height": 406
        },
        "id": "inMOfPwmCJHN",
        "outputId": "456f082d-3d36-4f52-dc4c-374189572f23"
      },
      "execution_count": 258,
      "outputs": [
        {
          "output_type": "display_data",
          "data": {
            "text/plain": [
              "<Figure size 720x432 with 1 Axes>"
            ],
            "image/png": "[encoded data removed]"
          },
          "metadata": {
            "needs_background": "light"
          }
        }
      ]
    },
    {
      "cell_type": "code",
      "source": [
        "# function to return number of common elements in two lists\n",
        "\n",
        "def intersection(list_a, list_b):\n",
        "    return len([e for e in list_a if e in list_b ])"
      ],
      "metadata": {
        "id": "GXsVQ7ub4Pxi"
      },
      "execution_count": 177,
      "outputs": []
    },
    {
      "cell_type": "code",
      "source": [
        "# function to find accracy \n",
        "\n",
        "def exact_match(I,index_comp,all_embeddings):\n",
        "  len_IVF=0\n",
        "  k=15\n",
        "  for i in range(len(all_embeddings)):\n",
        "    len_IVF+=intersection(I[i],index_comp[i])\n",
        "\n",
        "  return len_IVF/(k*len(all_embeddings))*100"
      ],
      "metadata": {
        "id": "RD8XN1Mt3bUT"
      },
      "execution_count": 184,
      "outputs": []
    },
    {
      "cell_type": "code",
      "source": [
        "a=[]\n",
        "for i in [I_IVF,I_PQ,I_LSH,I_HNSW]:\n",
        "  a.append(exact_match(I,i,all_embeddings))"
      ],
      "metadata": {
        "id": "v4gjfETr4nMv"
      },
      "execution_count": 231,
      "outputs": []
    },
    {
      "cell_type": "code",
      "source": [
        "#accuracy of index_HNSW\n",
        "exact_match(I,I_HNSW,all_embeddings)"
      ],
      "metadata": {
        "colab": {
          "base_uri": "https://localhost:8080/"
        },
        "id": "PW9Fnzi9J4k5",
        "outputId": "0f11dc24-e674-44c0-80a8-7fc2e10b42ea"
      },
      "execution_count": 230,
      "outputs": [
        {
          "output_type": "execute_result",
          "data": {
            "text/plain": [
              "95.19951161917028"
            ]
          },
          "metadata": {},
          "execution_count": 230
        }
      ]
    },
    {
      "cell_type": "code",
      "source": [
        "performance={\"I_IVF\":a[0],\"I_PQ\":a[1],\"I_LSH\":a[2],\"I_HNSW\":a[3]}\n",
        "plt.figure(figsize=(9,6))\n",
        "plt.bar(*zip(*performance.items()),color='green')\n",
        "plt.xlabel(\"Index_Type\")\n",
        "plt.ylabel(\"Accuracy in %\")\n",
        "plt.title(\"performance of all the indexes\")\n",
        "plt.show()"
      ],
      "metadata": {
        "colab": {
          "base_uri": "https://localhost:8080/",
          "height": 406
        },
        "id": "SCdJsw55AHRx",
        "outputId": "24bd49d4-c3e9-451a-f222-6f9e707eba07"
      },
      "execution_count": 256,
      "outputs": [
        {
          "output_type": "display_data",
          "data": {
            "text/plain": [
              "<Figure size 648x432 with 1 Axes>"
            ],
            "image/png": "[encoded data removed]"
          },
          "metadata": {
            "needs_background": "light"
          }
        }
      ]
    },
    {
      "cell_type": "code",
      "source": [],
      "metadata": {
        "id": "wg6AB2MsaZqX"
      },
      "execution_count": null,
      "outputs": []
    }
  ]
}