{
 "cells": [
  {
   "cell_type": "markdown",
   "id": "3209fe47",
   "metadata": {},
   "source": [
    "Customer lifetime value (CLV, or CLTV) is a metric that gives an estimation of the total revenue a business can somewhat expect from a single customer.\n",
    "\n",
    "We will predict Customer's Lifetime Value or expected number of purchases in the future(next couple of months/year) using Buy Till You Die model BG/NBD model. Which is also called Beta-Geometric Negative Binomial Distribution. \n",
    "\n",
    "We are also going to use the Gamma Gamma Model to predict the expected revenue in the future.\n",
    "\n",
    "We are using Lifetimes library to calculate CLV. We have downloaded data from https://www.kaggle.com/code/shailaja4247/customer-lifetime-value-prediction/data.\n"
   ]
  },
  {
   "cell_type": "code",
   "execution_count": 1,
   "id": "9a0b4bb6",
   "metadata": {},
   "outputs": [],
   "source": [
    "import pandas as pd\n",
    "import numpy as np\n",
    "\n",
    "import matplotlib.pyplot as plt\n",
    "import seaborn as sns\n",
    "\n",
    "import lifetimes\n",
    "\n",
    "import datetime as dt\n",
    "\n",
    "from lifetimes import BetaGeoFitter # BG/NBD\n",
    "from lifetimes import GammaGammaFitter # Gamma-Gamma Model\n",
    "from lifetimes.plotting import plot_frequency_recency_matrix\n"
   ]
  },
  {
   "cell_type": "code",
   "execution_count": 2,
   "id": "5f50f4eb",
   "metadata": {},
   "outputs": [
    {
     "data": {
      "text/html": [
       "<div>\n",
       "<style scoped>\n",
       "    .dataframe tbody tr th:only-of-type {\n",
       "        vertical-align: middle;\n",
       "    }\n",
       "\n",
       "    .dataframe tbody tr th {\n",
       "        vertical-align: top;\n",
       "    }\n",
       "\n",
       "    .dataframe thead th {\n",
       "        text-align: right;\n",
       "    }\n",
       "</style>\n",
       "<table border=\"1\" class=\"dataframe\">\n",
       "  <thead>\n",
       "    <tr style=\"text-align: right;\">\n",
       "      <th></th>\n",
       "      <th>InvoiceNo</th>\n",
       "      <th>StockCode</th>\n",
       "      <th>Description</th>\n",
       "      <th>Quantity</th>\n",
       "      <th>InvoiceDate</th>\n",
       "      <th>UnitPrice</th>\n",
       "      <th>CustomerID</th>\n",
       "      <th>Country</th>\n",
       "    </tr>\n",
       "  </thead>\n",
       "  <tbody>\n",
       "    <tr>\n",
       "      <th>0</th>\n",
       "      <td>536365</td>\n",
       "      <td>85123A</td>\n",
       "      <td>WHITE HANGING HEART T-LIGHT HOLDER</td>\n",
       "      <td>6</td>\n",
       "      <td>2010-12-01 08:26:00</td>\n",
       "      <td>2.55</td>\n",
       "      <td>17850.0</td>\n",
       "      <td>United Kingdom</td>\n",
       "    </tr>\n",
       "    <tr>\n",
       "      <th>1</th>\n",
       "      <td>536365</td>\n",
       "      <td>71053</td>\n",
       "      <td>WHITE METAL LANTERN</td>\n",
       "      <td>6</td>\n",
       "      <td>2010-12-01 08:26:00</td>\n",
       "      <td>3.39</td>\n",
       "      <td>17850.0</td>\n",
       "      <td>United Kingdom</td>\n",
       "    </tr>\n",
       "    <tr>\n",
       "      <th>2</th>\n",
       "      <td>536365</td>\n",
       "      <td>84406B</td>\n",
       "      <td>CREAM CUPID HEARTS COAT HANGER</td>\n",
       "      <td>8</td>\n",
       "      <td>2010-12-01 08:26:00</td>\n",
       "      <td>2.75</td>\n",
       "      <td>17850.0</td>\n",
       "      <td>United Kingdom</td>\n",
       "    </tr>\n",
       "    <tr>\n",
       "      <th>3</th>\n",
       "      <td>536365</td>\n",
       "      <td>84029G</td>\n",
       "      <td>KNITTED UNION FLAG HOT WATER BOTTLE</td>\n",
       "      <td>6</td>\n",
       "      <td>2010-12-01 08:26:00</td>\n",
       "      <td>3.39</td>\n",
       "      <td>17850.0</td>\n",
       "      <td>United Kingdom</td>\n",
       "    </tr>\n",
       "    <tr>\n",
       "      <th>4</th>\n",
       "      <td>536365</td>\n",
       "      <td>84029E</td>\n",
       "      <td>RED WOOLLY HOTTIE WHITE HEART.</td>\n",
       "      <td>6</td>\n",
       "      <td>2010-12-01 08:26:00</td>\n",
       "      <td>3.39</td>\n",
       "      <td>17850.0</td>\n",
       "      <td>United Kingdom</td>\n",
       "    </tr>\n",
       "  </tbody>\n",
       "</table>\n",
       "</div>"
      ],
      "text/plain": [
       "  InvoiceNo StockCode                          Description  Quantity         InvoiceDate  UnitPrice  CustomerID         Country\n",
       "0    536365    85123A   WHITE HANGING HEART T-LIGHT HOLDER         6 2010-12-01 08:26:00       2.55     17850.0  United Kingdom\n",
       "1    536365     71053                  WHITE METAL LANTERN         6 2010-12-01 08:26:00       3.39     17850.0  United Kingdom\n",
       "2    536365    84406B       CREAM CUPID HEARTS COAT HANGER         8 2010-12-01 08:26:00       2.75     17850.0  United Kingdom\n",
       "3    536365    84029G  KNITTED UNION FLAG HOT WATER BOTTLE         6 2010-12-01 08:26:00       3.39     17850.0  United Kingdom\n",
       "4    536365    84029E       RED WOOLLY HOTTIE WHITE HEART.         6 2010-12-01 08:26:00       3.39     17850.0  United Kingdom"
      ]
     },
     "execution_count": 2,
     "metadata": {},
     "output_type": "execute_result"
    }
   ],
   "source": [
    "df = pd.read_excel('Online Retail.xlsx')\n",
    "df.head()"
   ]
  },
  {
   "cell_type": "code",
   "execution_count": 3,
   "id": "51a533c2",
   "metadata": {},
   "outputs": [
    {
     "data": {
      "text/plain": [
       "-80995"
      ]
     },
     "execution_count": 3,
     "metadata": {},
     "output_type": "execute_result"
    }
   ],
   "source": [
    "df['Quantity'].min()"
   ]
  },
  {
   "cell_type": "code",
   "execution_count": 4,
   "id": "7f9238d4",
   "metadata": {},
   "outputs": [
    {
     "data": {
      "text/plain": [
       "80995"
      ]
     },
     "execution_count": 4,
     "metadata": {},
     "output_type": "execute_result"
    }
   ],
   "source": [
    "df['Quantity'].max()"
   ]
  },
  {
   "cell_type": "code",
   "execution_count": 5,
   "id": "ecf0c96b",
   "metadata": {},
   "outputs": [
    {
     "data": {
      "text/plain": [
       "-11062.06"
      ]
     },
     "execution_count": 5,
     "metadata": {},
     "output_type": "execute_result"
    }
   ],
   "source": [
    "df.UnitPrice.min()"
   ]
  },
  {
   "cell_type": "code",
   "execution_count": 6,
   "id": "cb655334",
   "metadata": {},
   "outputs": [],
   "source": [
    "df = df[df['Quantity'] > 0 ] # exclude the purcheses with 0 or less items\n",
    "df = df[df['UnitPrice'] > 0] # exclude the UnitPrice with 0 or less values"
   ]
  },
  {
   "cell_type": "code",
   "execution_count": 7,
   "id": "613463d1",
   "metadata": {},
   "outputs": [
    {
     "name": "stdout",
     "output_type": "stream",
     "text": [
      "[536382, 536382, 536382, 536384, 536384, 536384, 536384, 536384, 536384, 536384, 536384, 536384, 536384, 536384, 536384, 536384, 536385, 536385, 536385, 536385]\n"
     ]
    }
   ],
   "source": [
    "p=df['InvoiceNo']\n",
    "print(list(p)[150:170])"
   ]
  },
  {
   "cell_type": "code",
   "execution_count": 8,
   "id": "ba449849",
   "metadata": {},
   "outputs": [
    {
     "data": {
      "text/plain": [
       "0"
      ]
     },
     "execution_count": 8,
     "metadata": {},
     "output_type": "execute_result"
    }
   ],
   "source": [
    "df['InvoiceNo'].str.contains(\"C\",na=False).sum()"
   ]
  },
  {
   "cell_type": "code",
   "execution_count": 9,
   "id": "a5b0f56a",
   "metadata": {},
   "outputs": [
    {
     "data": {
      "text/plain": [
       "InvoiceNo           0\n",
       "StockCode           0\n",
       "Description         0\n",
       "Quantity            0\n",
       "InvoiceDate         0\n",
       "UnitPrice           0\n",
       "CustomerID     132220\n",
       "Country             0\n",
       "dtype: int64"
      ]
     },
     "execution_count": 9,
     "metadata": {},
     "output_type": "execute_result"
    }
   ],
   "source": [
    "df.isnull().sum()"
   ]
  },
  {
   "cell_type": "code",
   "execution_count": 10,
   "id": "9283988d",
   "metadata": {},
   "outputs": [],
   "source": [
    "df.dropna(inplace=True)"
   ]
  },
  {
   "cell_type": "code",
   "execution_count": 11,
   "id": "3b062162",
   "metadata": {},
   "outputs": [],
   "source": [
    "def find_boundaries(df, variable,q1=0.05,q2=0.95):\n",
    "# the boundaries are the quantiles\n",
    "    lower_boundary = df[variable].quantile(q1) # lower quantile\n",
    "    upper_boundary = df[variable].quantile(q2) # upper quantile\n",
    "    return upper_boundary, lower_boundary\n",
    "\n",
    "def capping_outliers(df,variable):\n",
    "    \n",
    "    upper_boundary,lower_boundary =  find_boundaries(df,variable)\n",
    "    df[variable] = np.where(df[variable] > upper_boundary, upper_boundary,\n",
    "                       np.where(df[variable] < lower_boundary, lower_boundary, df[variable]))"
   ]
  },
  {
   "cell_type": "code",
   "execution_count": 12,
   "id": "9d8ff62a",
   "metadata": {},
   "outputs": [],
   "source": [
    "capping_outliers(df,'UnitPrice')\n",
    "capping_outliers(df,'Quantity')"
   ]
  },
  {
   "cell_type": "code",
   "execution_count": 13,
   "id": "b853d625",
   "metadata": {},
   "outputs": [
    {
     "data": {
      "text/html": [
       "<div>\n",
       "<style scoped>\n",
       "    .dataframe tbody tr th:only-of-type {\n",
       "        vertical-align: middle;\n",
       "    }\n",
       "\n",
       "    .dataframe tbody tr th {\n",
       "        vertical-align: top;\n",
       "    }\n",
       "\n",
       "    .dataframe thead th {\n",
       "        text-align: right;\n",
       "    }\n",
       "</style>\n",
       "<table border=\"1\" class=\"dataframe\">\n",
       "  <thead>\n",
       "    <tr style=\"text-align: right;\">\n",
       "      <th></th>\n",
       "      <th>Quantity</th>\n",
       "      <th>UnitPrice</th>\n",
       "      <th>CustomerID</th>\n",
       "    </tr>\n",
       "  </thead>\n",
       "  <tbody>\n",
       "    <tr>\n",
       "      <th>count</th>\n",
       "      <td>397884.000000</td>\n",
       "      <td>397884.000000</td>\n",
       "      <td>397884.000000</td>\n",
       "    </tr>\n",
       "    <tr>\n",
       "      <th>mean</th>\n",
       "      <td>8.868022</td>\n",
       "      <td>2.675785</td>\n",
       "      <td>15294.423453</td>\n",
       "    </tr>\n",
       "    <tr>\n",
       "      <th>std</th>\n",
       "      <td>9.523425</td>\n",
       "      <td>2.275053</td>\n",
       "      <td>1713.141560</td>\n",
       "    </tr>\n",
       "    <tr>\n",
       "      <th>min</th>\n",
       "      <td>1.000000</td>\n",
       "      <td>0.420000</td>\n",
       "      <td>12346.000000</td>\n",
       "    </tr>\n",
       "    <tr>\n",
       "      <th>25%</th>\n",
       "      <td>2.000000</td>\n",
       "      <td>1.250000</td>\n",
       "      <td>13969.000000</td>\n",
       "    </tr>\n",
       "    <tr>\n",
       "      <th>50%</th>\n",
       "      <td>6.000000</td>\n",
       "      <td>1.950000</td>\n",
       "      <td>15159.000000</td>\n",
       "    </tr>\n",
       "    <tr>\n",
       "      <th>75%</th>\n",
       "      <td>12.000000</td>\n",
       "      <td>3.750000</td>\n",
       "      <td>16795.000000</td>\n",
       "    </tr>\n",
       "    <tr>\n",
       "      <th>max</th>\n",
       "      <td>36.000000</td>\n",
       "      <td>8.500000</td>\n",
       "      <td>18287.000000</td>\n",
       "    </tr>\n",
       "  </tbody>\n",
       "</table>\n",
       "</div>"
      ],
      "text/plain": [
       "            Quantity      UnitPrice     CustomerID\n",
       "count  397884.000000  397884.000000  397884.000000\n",
       "mean        8.868022       2.675785   15294.423453\n",
       "std         9.523425       2.275053    1713.141560\n",
       "min         1.000000       0.420000   12346.000000\n",
       "25%         2.000000       1.250000   13969.000000\n",
       "50%         6.000000       1.950000   15159.000000\n",
       "75%        12.000000       3.750000   16795.000000\n",
       "max        36.000000       8.500000   18287.000000"
      ]
     },
     "execution_count": 13,
     "metadata": {},
     "output_type": "execute_result"
    }
   ],
   "source": [
    "df.describe()"
   ]
  },
  {
   "cell_type": "code",
   "execution_count": 14,
   "id": "988eebd8",
   "metadata": {},
   "outputs": [],
   "source": [
    "df['Total Price'] = df['UnitPrice'] * df['Quantity']"
   ]
  },
  {
   "cell_type": "code",
   "execution_count": 15,
   "id": "2115d20a",
   "metadata": {},
   "outputs": [
    {
     "data": {
      "text/plain": [
       "<AxesSubplot:xlabel='InvoiceDate'>"
      ]
     },
     "execution_count": 15,
     "metadata": {},
     "output_type": "execute_result"
    },
    {
     "data": {
      "image/png": "[encoded data removed]",
      "text/plain": [
       "<Figure size 432x288 with 1 Axes>"
      ]
     },
     "metadata": {
      "needs_background": "light"
     },
     "output_type": "display_data"
    }
   ],
   "source": [
    "df.groupby(['InvoiceDate']).Quantity.sum().plot()"
   ]
  },
  {
   "cell_type": "code",
   "execution_count": null,
   "id": "e35abe9e",
   "metadata": {},
   "outputs": [],
   "source": []
  },
  {
   "cell_type": "code",
   "execution_count": 16,
   "id": "ab5a2aaa",
   "metadata": {},
   "outputs": [],
   "source": [
    "clv = lifetimes.utils.summary_data_from_transaction_data(df,'CustomerID','InvoiceDate','Total Price',observation_period_end='2011-12-09')"
   ]
  },
  {
   "cell_type": "code",
   "execution_count": 17,
   "id": "101a216b",
   "metadata": {},
   "outputs": [
    {
     "data": {
      "text/html": [
       "<div>\n",
       "<style scoped>\n",
       "    .dataframe tbody tr th:only-of-type {\n",
       "        vertical-align: middle;\n",
       "    }\n",
       "\n",
       "    .dataframe tbody tr th {\n",
       "        vertical-align: top;\n",
       "    }\n",
       "\n",
       "    .dataframe thead th {\n",
       "        text-align: right;\n",
       "    }\n",
       "</style>\n",
       "<table border=\"1\" class=\"dataframe\">\n",
       "  <thead>\n",
       "    <tr style=\"text-align: right;\">\n",
       "      <th></th>\n",
       "      <th>frequency</th>\n",
       "      <th>recency</th>\n",
       "      <th>T</th>\n",
       "      <th>monetary_value</th>\n",
       "    </tr>\n",
       "    <tr>\n",
       "      <th>CustomerID</th>\n",
       "      <th></th>\n",
       "      <th></th>\n",
       "      <th></th>\n",
       "      <th></th>\n",
       "    </tr>\n",
       "  </thead>\n",
       "  <tbody>\n",
       "    <tr>\n",
       "      <th>12346.0</th>\n",
       "      <td>0.0</td>\n",
       "      <td>0.0</td>\n",
       "      <td>325.0</td>\n",
       "      <td>0.000000</td>\n",
       "    </tr>\n",
       "    <tr>\n",
       "      <th>12347.0</th>\n",
       "      <td>6.0</td>\n",
       "      <td>365.0</td>\n",
       "      <td>367.0</td>\n",
       "      <td>550.570000</td>\n",
       "    </tr>\n",
       "    <tr>\n",
       "      <th>12348.0</th>\n",
       "      <td>3.0</td>\n",
       "      <td>283.0</td>\n",
       "      <td>358.0</td>\n",
       "      <td>116.126667</td>\n",
       "    </tr>\n",
       "    <tr>\n",
       "      <th>12349.0</th>\n",
       "      <td>0.0</td>\n",
       "      <td>0.0</td>\n",
       "      <td>18.0</td>\n",
       "      <td>0.000000</td>\n",
       "    </tr>\n",
       "    <tr>\n",
       "      <th>12350.0</th>\n",
       "      <td>0.0</td>\n",
       "      <td>0.0</td>\n",
       "      <td>310.0</td>\n",
       "      <td>0.000000</td>\n",
       "    </tr>\n",
       "    <tr>\n",
       "      <th>...</th>\n",
       "      <td>...</td>\n",
       "      <td>...</td>\n",
       "      <td>...</td>\n",
       "      <td>...</td>\n",
       "    </tr>\n",
       "    <tr>\n",
       "      <th>18280.0</th>\n",
       "      <td>0.0</td>\n",
       "      <td>0.0</td>\n",
       "      <td>277.0</td>\n",
       "      <td>0.000000</td>\n",
       "    </tr>\n",
       "    <tr>\n",
       "      <th>18281.0</th>\n",
       "      <td>0.0</td>\n",
       "      <td>0.0</td>\n",
       "      <td>180.0</td>\n",
       "      <td>0.000000</td>\n",
       "    </tr>\n",
       "    <tr>\n",
       "      <th>18282.0</th>\n",
       "      <td>1.0</td>\n",
       "      <td>119.0</td>\n",
       "      <td>126.0</td>\n",
       "      <td>69.340000</td>\n",
       "    </tr>\n",
       "    <tr>\n",
       "      <th>18283.0</th>\n",
       "      <td>13.0</td>\n",
       "      <td>334.0</td>\n",
       "      <td>337.0</td>\n",
       "      <td>152.436154</td>\n",
       "    </tr>\n",
       "    <tr>\n",
       "      <th>18287.0</th>\n",
       "      <td>2.0</td>\n",
       "      <td>159.0</td>\n",
       "      <td>201.0</td>\n",
       "      <td>493.940000</td>\n",
       "    </tr>\n",
       "  </tbody>\n",
       "</table>\n",
       "<p>4338 rows × 4 columns</p>\n",
       "</div>"
      ],
      "text/plain": [
       "            frequency  recency      T  monetary_value\n",
       "CustomerID                                           \n",
       "12346.0           0.0      0.0  325.0        0.000000\n",
       "12347.0           6.0    365.0  367.0      550.570000\n",
       "12348.0           3.0    283.0  358.0      116.126667\n",
       "12349.0           0.0      0.0   18.0        0.000000\n",
       "12350.0           0.0      0.0  310.0        0.000000\n",
       "...               ...      ...    ...             ...\n",
       "18280.0           0.0      0.0  277.0        0.000000\n",
       "18281.0           0.0      0.0  180.0        0.000000\n",
       "18282.0           1.0    119.0  126.0       69.340000\n",
       "18283.0          13.0    334.0  337.0      152.436154\n",
       "18287.0           2.0    159.0  201.0      493.940000\n",
       "\n",
       "[4338 rows x 4 columns]"
      ]
     },
     "execution_count": 17,
     "metadata": {},
     "output_type": "execute_result"
    }
   ],
   "source": [
    "clv"
   ]
  },
  {
   "cell_type": "code",
   "execution_count": 22,
   "id": "6d3daa4f",
   "metadata": {},
   "outputs": [],
   "source": [
    "clv = clv[clv['frequency']>1] # we want only customers shopped more than 2 times"
   ]
  },
  {
   "cell_type": "code",
   "execution_count": 23,
   "id": "9609aa04",
   "metadata": {},
   "outputs": [
    {
     "data": {
      "text/plain": [
       "<lifetimes.BetaGeoFitter: fitted with 1916 subjects, a: 0.00, alpha: 109.98, b: 0.00, r: 2.35>"
      ]
     },
     "execution_count": 23,
     "metadata": {},
     "output_type": "execute_result"
    }
   ],
   "source": [
    "bgf = BetaGeoFitter(penalizer_coef=0.001)\n",
    "bgf.fit(clv['frequency'], clv['recency'], clv['T'])"
   ]
  },
  {
   "cell_type": "code",
   "execution_count": 25,
   "id": "e7c21b75",
   "metadata": {},
   "outputs": [
    {
     "data": {
      "text/html": [
       "<div>\n",
       "<style scoped>\n",
       "    .dataframe tbody tr th:only-of-type {\n",
       "        vertical-align: middle;\n",
       "    }\n",
       "\n",
       "    .dataframe tbody tr th {\n",
       "        vertical-align: top;\n",
       "    }\n",
       "\n",
       "    .dataframe thead th {\n",
       "        text-align: right;\n",
       "    }\n",
       "</style>\n",
       "<table border=\"1\" class=\"dataframe\">\n",
       "  <thead>\n",
       "    <tr style=\"text-align: right;\">\n",
       "      <th></th>\n",
       "      <th>coef</th>\n",
       "      <th>se(coef)</th>\n",
       "      <th>lower 95% bound</th>\n",
       "      <th>upper 95% bound</th>\n",
       "    </tr>\n",
       "  </thead>\n",
       "  <tbody>\n",
       "    <tr>\n",
       "      <th>r</th>\n",
       "      <td>2.352230e+00</td>\n",
       "      <td>9.460913e-02</td>\n",
       "      <td>2.166796e+00</td>\n",
       "      <td>2.537663e+00</td>\n",
       "    </tr>\n",
       "    <tr>\n",
       "      <th>alpha</th>\n",
       "      <td>1.099756e+02</td>\n",
       "      <td>4.886129e+00</td>\n",
       "      <td>1.003987e+02</td>\n",
       "      <td>1.195524e+02</td>\n",
       "    </tr>\n",
       "    <tr>\n",
       "      <th>a</th>\n",
       "      <td>7.059467e-17</td>\n",
       "      <td>2.175775e-11</td>\n",
       "      <td>-4.264513e-11</td>\n",
       "      <td>4.264527e-11</td>\n",
       "    </tr>\n",
       "    <tr>\n",
       "      <th>b</th>\n",
       "      <td>1.185773e-06</td>\n",
       "      <td>3.654458e-01</td>\n",
       "      <td>-7.162727e-01</td>\n",
       "      <td>7.162750e-01</td>\n",
       "    </tr>\n",
       "  </tbody>\n",
       "</table>\n",
       "</div>"
      ],
      "text/plain": [
       "               coef      se(coef)  lower 95% bound  upper 95% bound\n",
       "r      2.352230e+00  9.460913e-02     2.166796e+00     2.537663e+00\n",
       "alpha  1.099756e+02  4.886129e+00     1.003987e+02     1.195524e+02\n",
       "a      7.059467e-17  2.175775e-11    -4.264513e-11     4.264527e-11\n",
       "b      1.185773e-06  3.654458e-01    -7.162727e-01     7.162750e-01"
      ]
     },
     "execution_count": 25,
     "metadata": {},
     "output_type": "execute_result"
    }
   ],
   "source": [
    "bgf.summary"
   ]
  },
  {
   "cell_type": "code",
   "execution_count": 37,
   "id": "0542a7b1",
   "metadata": {},
   "outputs": [
    {
     "data": {
      "text/html": [
       "<div>\n",
       "<style scoped>\n",
       "    .dataframe tbody tr th:only-of-type {\n",
       "        vertical-align: middle;\n",
       "    }\n",
       "\n",
       "    .dataframe tbody tr th {\n",
       "        vertical-align: top;\n",
       "    }\n",
       "\n",
       "    .dataframe thead th {\n",
       "        text-align: right;\n",
       "    }\n",
       "</style>\n",
       "<table border=\"1\" class=\"dataframe\">\n",
       "  <thead>\n",
       "    <tr style=\"text-align: right;\">\n",
       "      <th></th>\n",
       "      <th>frequency</th>\n",
       "      <th>recency</th>\n",
       "      <th>T</th>\n",
       "      <th>monetary_value</th>\n",
       "      <th>expected_purc_3_months</th>\n",
       "    </tr>\n",
       "    <tr>\n",
       "      <th>CustomerID</th>\n",
       "      <th></th>\n",
       "      <th></th>\n",
       "      <th></th>\n",
       "      <th></th>\n",
       "      <th></th>\n",
       "    </tr>\n",
       "  </thead>\n",
       "  <tbody>\n",
       "    <tr>\n",
       "      <th>14911.0</th>\n",
       "      <td>131.0</td>\n",
       "      <td>372.0</td>\n",
       "      <td>373.0</td>\n",
       "      <td>917.278855</td>\n",
       "      <td>24.849499</td>\n",
       "    </tr>\n",
       "    <tr>\n",
       "      <th>12748.0</th>\n",
       "      <td>112.0</td>\n",
       "      <td>373.0</td>\n",
       "      <td>373.0</td>\n",
       "      <td>257.314911</td>\n",
       "      <td>21.308947</td>\n",
       "    </tr>\n",
       "    <tr>\n",
       "      <th>17841.0</th>\n",
       "      <td>111.0</td>\n",
       "      <td>372.0</td>\n",
       "      <td>373.0</td>\n",
       "      <td>349.079640</td>\n",
       "      <td>21.122603</td>\n",
       "    </tr>\n",
       "    <tr>\n",
       "      <th>15311.0</th>\n",
       "      <td>89.0</td>\n",
       "      <td>373.0</td>\n",
       "      <td>373.0</td>\n",
       "      <td>421.881573</td>\n",
       "      <td>17.023016</td>\n",
       "    </tr>\n",
       "    <tr>\n",
       "      <th>14606.0</th>\n",
       "      <td>88.0</td>\n",
       "      <td>372.0</td>\n",
       "      <td>373.0</td>\n",
       "      <td>125.302955</td>\n",
       "      <td>16.836671</td>\n",
       "    </tr>\n",
       "  </tbody>\n",
       "</table>\n",
       "</div>"
      ],
      "text/plain": [
       "            frequency  recency      T  monetary_value  expected_purc_3_months\n",
       "CustomerID                                                                   \n",
       "14911.0         131.0    372.0  373.0      917.278855               24.849499\n",
       "12748.0         112.0    373.0  373.0      257.314911               21.308947\n",
       "17841.0         111.0    372.0  373.0      349.079640               21.122603\n",
       "15311.0          89.0    373.0  373.0      421.881573               17.023016\n",
       "14606.0          88.0    372.0  373.0      125.302955               16.836671"
      ]
     },
     "execution_count": 37,
     "metadata": {},
     "output_type": "execute_result"
    }
   ],
   "source": [
    "#Expected Number of Purchases within 3 Months\n",
    "t = 90 # 30 day month/period\n",
    "clv['expected_purc_3_months'] = bgf.conditional_expected_number_of_purchases_up_to_time(t, clv['frequency'], clv['recency'], clv['T'])\n",
    "clv.sort_values(by='expected_purc_3_months',ascending=False).head(5)\n"
   ]
  },
  {
   "cell_type": "code",
   "execution_count": null,
   "id": "ee11027b",
   "metadata": {},
   "outputs": [],
   "source": []
  },
  {
   "cell_type": "code",
   "execution_count": 38,
   "id": "45713848",
   "metadata": {},
   "outputs": [
    {
     "data": {
      "image/png": "[encoded data removed]",
      "text/plain": [
       "<Figure size 1080x576 with 2 Axes>"
      ]
     },
     "metadata": {
      "needs_background": "light"
     },
     "output_type": "display_data"
    }
   ],
   "source": [
    "plt.figure(figsize=(15,8))\n",
    "plot_frequency_recency_matrix(bgf)\n",
    "plt.show()"
   ]
  },
  {
   "cell_type": "markdown",
   "id": "b9c92c7a",
   "metadata": {},
   "source": [
    "Gamma-Gamma Model\n",
    "After predicting the expected number of purchases of each customer. We need to use monetary value in order to predict CLV.\n",
    "\n",
    "The Gamma Gamma model predicts the most likely value for each transaction.\n"
   ]
  },
  {
   "cell_type": "code",
   "execution_count": 32,
   "id": "e3cb6465",
   "metadata": {},
   "outputs": [
    {
     "data": {
      "text/plain": [
       "<seaborn.axisgrid.PairGrid at 0x17416ba8358>"
      ]
     },
     "execution_count": 32,
     "metadata": {},
     "output_type": "execute_result"
    },
    {
     "data": {
      "image/png": "[encoded data removed]",
      "text/plain": [
       "<Figure size 720x720 with 20 Axes>"
      ]
     },
     "metadata": {
      "needs_background": "light"
     },
     "output_type": "display_data"
    }
   ],
   "source": [
    "import seaborn as sns\n",
    "\n",
    "sns.pairplot(clv)"
   ]
  },
  {
   "cell_type": "code",
   "execution_count": 33,
   "id": "da0b5f9e",
   "metadata": {},
   "outputs": [
    {
     "data": {
      "text/html": [
       "<div>\n",
       "<style scoped>\n",
       "    .dataframe tbody tr th:only-of-type {\n",
       "        vertical-align: middle;\n",
       "    }\n",
       "\n",
       "    .dataframe tbody tr th {\n",
       "        vertical-align: top;\n",
       "    }\n",
       "\n",
       "    .dataframe thead th {\n",
       "        text-align: right;\n",
       "    }\n",
       "</style>\n",
       "<table border=\"1\" class=\"dataframe\">\n",
       "  <thead>\n",
       "    <tr style=\"text-align: right;\">\n",
       "      <th></th>\n",
       "      <th>frequency</th>\n",
       "      <th>monetary_value</th>\n",
       "    </tr>\n",
       "  </thead>\n",
       "  <tbody>\n",
       "    <tr>\n",
       "      <th>frequency</th>\n",
       "      <td>1.000000</td>\n",
       "      <td>0.110771</td>\n",
       "    </tr>\n",
       "    <tr>\n",
       "      <th>monetary_value</th>\n",
       "      <td>0.110771</td>\n",
       "      <td>1.000000</td>\n",
       "    </tr>\n",
       "  </tbody>\n",
       "</table>\n",
       "</div>"
      ],
      "text/plain": [
       "                frequency  monetary_value\n",
       "frequency        1.000000        0.110771\n",
       "monetary_value   0.110771        1.000000"
      ]
     },
     "execution_count": 33,
     "metadata": {},
     "output_type": "execute_result"
    }
   ],
   "source": [
    "#Assumptions for Gamma-Gamma Model- there should be no correlation between frequency and monetary value.\n",
    "clv[['frequency','monetary_value']].corr()"
   ]
  },
  {
   "cell_type": "code",
   "execution_count": null,
   "id": "b18fd4ea",
   "metadata": {},
   "outputs": [],
   "source": []
  },
  {
   "cell_type": "code",
   "execution_count": 35,
   "id": "d088ac30",
   "metadata": {},
   "outputs": [
    {
     "data": {
      "text/plain": [
       "<lifetimes.GammaGammaFitter: fitted with 1916 subjects, p: 3.79, q: 0.34, v: 3.72>"
      ]
     },
     "execution_count": 35,
     "metadata": {},
     "output_type": "execute_result"
    }
   ],
   "source": [
    "ggf = GammaGammaFitter(penalizer_coef=0.01)\n",
    "ggf.fit(clv[\"frequency\"], clv[\"monetary_value\"])"
   ]
  },
  {
   "cell_type": "code",
   "execution_count": 36,
   "id": "40b8d844",
   "metadata": {},
   "outputs": [
    {
     "data": {
      "text/html": [
       "<div>\n",
       "<style scoped>\n",
       "    .dataframe tbody tr th:only-of-type {\n",
       "        vertical-align: middle;\n",
       "    }\n",
       "\n",
       "    .dataframe tbody tr th {\n",
       "        vertical-align: top;\n",
       "    }\n",
       "\n",
       "    .dataframe thead th {\n",
       "        text-align: right;\n",
       "    }\n",
       "</style>\n",
       "<table border=\"1\" class=\"dataframe\">\n",
       "  <thead>\n",
       "    <tr style=\"text-align: right;\">\n",
       "      <th></th>\n",
       "      <th>coef</th>\n",
       "      <th>se(coef)</th>\n",
       "      <th>lower 95% bound</th>\n",
       "      <th>upper 95% bound</th>\n",
       "    </tr>\n",
       "  </thead>\n",
       "  <tbody>\n",
       "    <tr>\n",
       "      <th>p</th>\n",
       "      <td>3.789079</td>\n",
       "      <td>0.118125</td>\n",
       "      <td>3.557555</td>\n",
       "      <td>4.020604</td>\n",
       "    </tr>\n",
       "    <tr>\n",
       "      <th>q</th>\n",
       "      <td>0.344041</td>\n",
       "      <td>0.008894</td>\n",
       "      <td>0.326610</td>\n",
       "      <td>0.361473</td>\n",
       "    </tr>\n",
       "    <tr>\n",
       "      <th>v</th>\n",
       "      <td>3.724072</td>\n",
       "      <td>0.118803</td>\n",
       "      <td>3.491218</td>\n",
       "      <td>3.956926</td>\n",
       "    </tr>\n",
       "  </tbody>\n",
       "</table>\n",
       "</div>"
      ],
      "text/plain": [
       "       coef  se(coef)  lower 95% bound  upper 95% bound\n",
       "p  3.789079  0.118125         3.557555         4.020604\n",
       "q  0.344041  0.008894         0.326610         0.361473\n",
       "v  3.724072  0.118803         3.491218         3.956926"
      ]
     },
     "execution_count": 36,
     "metadata": {},
     "output_type": "execute_result"
    }
   ],
   "source": [
    "ggf.summary"
   ]
  },
  {
   "cell_type": "markdown",
   "id": "ef7293fb",
   "metadata": {},
   "source": [
    "Predicting CLV for the Next 3 Months\n",
    "Now, We are ready to predict Customer Lifetime Value using BG/NBD and Gamma Gamma Model."
   ]
  },
  {
   "cell_type": "code",
   "execution_count": 39,
   "id": "493bdc5c",
   "metadata": {},
   "outputs": [],
   "source": [
    "clv['3_months_clv']=ggf.customer_lifetime_value(bgf, clv[\"frequency\"],clv[\"recency\"],clv[\"T\"],\n",
    "                                   clv[\"monetary_value\"],time=3, freq='D', discount_rate=0.01)\n",
    "\n"
   ]
  },
  {
   "cell_type": "code",
   "execution_count": 42,
   "id": "9b0614f2",
   "metadata": {},
   "outputs": [
    {
     "data": {
      "text/html": [
       "<div>\n",
       "<style scoped>\n",
       "    .dataframe tbody tr th:only-of-type {\n",
       "        vertical-align: middle;\n",
       "    }\n",
       "\n",
       "    .dataframe tbody tr th {\n",
       "        vertical-align: top;\n",
       "    }\n",
       "\n",
       "    .dataframe thead th {\n",
       "        text-align: right;\n",
       "    }\n",
       "</style>\n",
       "<table border=\"1\" class=\"dataframe\">\n",
       "  <thead>\n",
       "    <tr style=\"text-align: right;\">\n",
       "      <th></th>\n",
       "      <th>frequency</th>\n",
       "      <th>recency</th>\n",
       "      <th>T</th>\n",
       "      <th>monetary_value</th>\n",
       "      <th>expected_purc_3_months</th>\n",
       "      <th>3_months_clv</th>\n",
       "    </tr>\n",
       "    <tr>\n",
       "      <th>CustomerID</th>\n",
       "      <th></th>\n",
       "      <th></th>\n",
       "      <th></th>\n",
       "      <th></th>\n",
       "      <th></th>\n",
       "      <th></th>\n",
       "    </tr>\n",
       "  </thead>\n",
       "  <tbody>\n",
       "    <tr>\n",
       "      <th>17816.0</th>\n",
       "      <td>3.0</td>\n",
       "      <td>329.0</td>\n",
       "      <td>365.0</td>\n",
       "      <td>6.783333</td>\n",
       "      <td>1.014159</td>\n",
       "      <td>8.466803</td>\n",
       "    </tr>\n",
       "    <tr>\n",
       "      <th>18037.0</th>\n",
       "      <td>5.0</td>\n",
       "      <td>208.0</td>\n",
       "      <td>362.0</td>\n",
       "      <td>7.654000</td>\n",
       "      <td>1.401981</td>\n",
       "      <td>11.957351</td>\n",
       "    </tr>\n",
       "    <tr>\n",
       "      <th>12891.0</th>\n",
       "      <td>2.0</td>\n",
       "      <td>107.0</td>\n",
       "      <td>292.0</td>\n",
       "      <td>15.120000</td>\n",
       "      <td>0.974439</td>\n",
       "      <td>17.759697</td>\n",
       "    </tr>\n",
       "    <tr>\n",
       "      <th>14609.0</th>\n",
       "      <td>3.0</td>\n",
       "      <td>224.0</td>\n",
       "      <td>296.0</td>\n",
       "      <td>15.120000</td>\n",
       "      <td>1.186526</td>\n",
       "      <td>20.196768</td>\n",
       "    </tr>\n",
       "    <tr>\n",
       "      <th>16308.0</th>\n",
       "      <td>3.0</td>\n",
       "      <td>224.0</td>\n",
       "      <td>261.0</td>\n",
       "      <td>15.120000</td>\n",
       "      <td>1.298470</td>\n",
       "      <td>22.102249</td>\n",
       "    </tr>\n",
       "    <tr>\n",
       "      <th>13848.0</th>\n",
       "      <td>2.0</td>\n",
       "      <td>274.0</td>\n",
       "      <td>366.0</td>\n",
       "      <td>39.420000</td>\n",
       "      <td>0.822943</td>\n",
       "      <td>36.460439</td>\n",
       "    </tr>\n",
       "    <tr>\n",
       "      <th>17736.0</th>\n",
       "      <td>2.0</td>\n",
       "      <td>104.0</td>\n",
       "      <td>113.0</td>\n",
       "      <td>19.250000</td>\n",
       "      <td>1.756698</td>\n",
       "      <td>39.803229</td>\n",
       "    </tr>\n",
       "    <tr>\n",
       "      <th>14500.0</th>\n",
       "      <td>2.0</td>\n",
       "      <td>101.0</td>\n",
       "      <td>189.0</td>\n",
       "      <td>27.500000</td>\n",
       "      <td>1.310143</td>\n",
       "      <td>41.285346</td>\n",
       "    </tr>\n",
       "    <tr>\n",
       "      <th>17988.0</th>\n",
       "      <td>4.0</td>\n",
       "      <td>315.0</td>\n",
       "      <td>326.0</td>\n",
       "      <td>31.332500</td>\n",
       "      <td>1.311314</td>\n",
       "      <td>43.351568</td>\n",
       "    </tr>\n",
       "    <tr>\n",
       "      <th>14836.0</th>\n",
       "      <td>2.0</td>\n",
       "      <td>20.0</td>\n",
       "      <td>30.0</td>\n",
       "      <td>13.200000</td>\n",
       "      <td>2.798351</td>\n",
       "      <td>45.235242</td>\n",
       "    </tr>\n",
       "  </tbody>\n",
       "</table>\n",
       "</div>"
      ],
      "text/plain": [
       "            frequency  recency      T  monetary_value  expected_purc_3_months  3_months_clv\n",
       "CustomerID                                                                                 \n",
       "17816.0           3.0    329.0  365.0        6.783333                1.014159      8.466803\n",
       "18037.0           5.0    208.0  362.0        7.654000                1.401981     11.957351\n",
       "12891.0           2.0    107.0  292.0       15.120000                0.974439     17.759697\n",
       "14609.0           3.0    224.0  296.0       15.120000                1.186526     20.196768\n",
       "16308.0           3.0    224.0  261.0       15.120000                1.298470     22.102249\n",
       "13848.0           2.0    274.0  366.0       39.420000                0.822943     36.460439\n",
       "17736.0           2.0    104.0  113.0       19.250000                1.756698     39.803229\n",
       "14500.0           2.0    101.0  189.0       27.500000                1.310143     41.285346\n",
       "17988.0           4.0    315.0  326.0       31.332500                1.311314     43.351568\n",
       "14836.0           2.0     20.0   30.0       13.200000                2.798351     45.235242"
      ]
     },
     "execution_count": 42,
     "metadata": {},
     "output_type": "execute_result"
    }
   ],
   "source": [
    "clv.sort_values('3_months_clv').head(10)"
   ]
  },
  {
   "cell_type": "code",
   "execution_count": null,
   "id": "4121bcba",
   "metadata": {},
   "outputs": [],
   "source": []
  },
  {
   "cell_type": "markdown",
   "id": "3a3fc65b",
   "metadata": {},
   "source": [
    "Segmenting CLV into Different Groups\n",
    "We can also segment our customers into different groups."
   ]
  },
  {
   "cell_type": "code",
   "execution_count": 44,
   "id": "23c8a20f",
   "metadata": {},
   "outputs": [],
   "source": [
    "clv['CustomerSegment'] =  pd.qcut(clv['3_months_clv'],4,labels = ['Hibernating','NeedAttention', 'LoyalCustomers', 'TopCustomers'])"
   ]
  },
  {
   "cell_type": "code",
   "execution_count": 45,
   "id": "033a1d0e",
   "metadata": {},
   "outputs": [
    {
     "data": {
      "text/html": [
       "<div>\n",
       "<style scoped>\n",
       "    .dataframe tbody tr th:only-of-type {\n",
       "        vertical-align: middle;\n",
       "    }\n",
       "\n",
       "    .dataframe tbody tr th {\n",
       "        vertical-align: top;\n",
       "    }\n",
       "\n",
       "    .dataframe thead th {\n",
       "        text-align: right;\n",
       "    }\n",
       "</style>\n",
       "<table border=\"1\" class=\"dataframe\">\n",
       "  <thead>\n",
       "    <tr style=\"text-align: right;\">\n",
       "      <th></th>\n",
       "      <th>frequency</th>\n",
       "      <th>recency</th>\n",
       "      <th>T</th>\n",
       "      <th>monetary_value</th>\n",
       "      <th>expected_purc_3_months</th>\n",
       "      <th>3_months_clv</th>\n",
       "      <th>CustomerSegment</th>\n",
       "    </tr>\n",
       "    <tr>\n",
       "      <th>CustomerID</th>\n",
       "      <th></th>\n",
       "      <th></th>\n",
       "      <th></th>\n",
       "      <th></th>\n",
       "      <th></th>\n",
       "      <th></th>\n",
       "      <th></th>\n",
       "    </tr>\n",
       "  </thead>\n",
       "  <tbody>\n",
       "    <tr>\n",
       "      <th>12347.0</th>\n",
       "      <td>6.0</td>\n",
       "      <td>365.0</td>\n",
       "      <td>367.0</td>\n",
       "      <td>550.570000</td>\n",
       "      <td>1.575973</td>\n",
       "      <td>876.874227</td>\n",
       "      <td>TopCustomers</td>\n",
       "    </tr>\n",
       "    <tr>\n",
       "      <th>12348.0</th>\n",
       "      <td>3.0</td>\n",
       "      <td>283.0</td>\n",
       "      <td>358.0</td>\n",
       "      <td>116.126667</td>\n",
       "      <td>1.029329</td>\n",
       "      <td>125.686624</td>\n",
       "      <td>Hibernating</td>\n",
       "    </tr>\n",
       "    <tr>\n",
       "      <th>12352.0</th>\n",
       "      <td>6.0</td>\n",
       "      <td>260.0</td>\n",
       "      <td>296.0</td>\n",
       "      <td>192.840000</td>\n",
       "      <td>1.851591</td>\n",
       "      <td>361.596640</td>\n",
       "      <td>NeedAttention</td>\n",
       "    </tr>\n",
       "    <tr>\n",
       "      <th>12356.0</th>\n",
       "      <td>2.0</td>\n",
       "      <td>303.0</td>\n",
       "      <td>325.0</td>\n",
       "      <td>226.080000</td>\n",
       "      <td>0.900512</td>\n",
       "      <td>220.295189</td>\n",
       "      <td>Hibernating</td>\n",
       "    </tr>\n",
       "    <tr>\n",
       "      <th>12359.0</th>\n",
       "      <td>3.0</td>\n",
       "      <td>274.0</td>\n",
       "      <td>331.0</td>\n",
       "      <td>1495.650000</td>\n",
       "      <td>1.092352</td>\n",
       "      <td>1701.132737</td>\n",
       "      <td>TopCustomers</td>\n",
       "    </tr>\n",
       "    <tr>\n",
       "      <th>...</th>\n",
       "      <td>...</td>\n",
       "      <td>...</td>\n",
       "      <td>...</td>\n",
       "      <td>...</td>\n",
       "      <td>...</td>\n",
       "      <td>...</td>\n",
       "      <td>...</td>\n",
       "    </tr>\n",
       "    <tr>\n",
       "      <th>18263.0</th>\n",
       "      <td>2.0</td>\n",
       "      <td>227.0</td>\n",
       "      <td>252.0</td>\n",
       "      <td>467.580000</td>\n",
       "      <td>1.082119</td>\n",
       "      <td>545.190368</td>\n",
       "      <td>LoyalCustomers</td>\n",
       "    </tr>\n",
       "    <tr>\n",
       "      <th>18272.0</th>\n",
       "      <td>5.0</td>\n",
       "      <td>244.0</td>\n",
       "      <td>246.0</td>\n",
       "      <td>485.688000</td>\n",
       "      <td>1.858837</td>\n",
       "      <td>918.204014</td>\n",
       "      <td>TopCustomers</td>\n",
       "    </tr>\n",
       "    <tr>\n",
       "      <th>18273.0</th>\n",
       "      <td>2.0</td>\n",
       "      <td>255.0</td>\n",
       "      <td>257.0</td>\n",
       "      <td>71.400000</td>\n",
       "      <td>1.067375</td>\n",
       "      <td>83.924215</td>\n",
       "      <td>Hibernating</td>\n",
       "    </tr>\n",
       "    <tr>\n",
       "      <th>18283.0</th>\n",
       "      <td>13.0</td>\n",
       "      <td>334.0</td>\n",
       "      <td>337.0</td>\n",
       "      <td>152.436154</td>\n",
       "      <td>3.091222</td>\n",
       "      <td>469.058931</td>\n",
       "      <td>NeedAttention</td>\n",
       "    </tr>\n",
       "    <tr>\n",
       "      <th>18287.0</th>\n",
       "      <td>2.0</td>\n",
       "      <td>159.0</td>\n",
       "      <td>201.0</td>\n",
       "      <td>493.940000</td>\n",
       "      <td>1.259587</td>\n",
       "      <td>670.235606</td>\n",
       "      <td>LoyalCustomers</td>\n",
       "    </tr>\n",
       "  </tbody>\n",
       "</table>\n",
       "<p>1916 rows × 7 columns</p>\n",
       "</div>"
      ],
      "text/plain": [
       "            frequency  recency      T  monetary_value  expected_purc_3_months  3_months_clv CustomerSegment\n",
       "CustomerID                                                                                                 \n",
       "12347.0           6.0    365.0  367.0      550.570000                1.575973    876.874227    TopCustomers\n",
       "12348.0           3.0    283.0  358.0      116.126667                1.029329    125.686624     Hibernating\n",
       "12352.0           6.0    260.0  296.0      192.840000                1.851591    361.596640   NeedAttention\n",
       "12356.0           2.0    303.0  325.0      226.080000                0.900512    220.295189     Hibernating\n",
       "12359.0           3.0    274.0  331.0     1495.650000                1.092352   1701.132737    TopCustomers\n",
       "...               ...      ...    ...             ...                     ...           ...             ...\n",
       "18263.0           2.0    227.0  252.0      467.580000                1.082119    545.190368  LoyalCustomers\n",
       "18272.0           5.0    244.0  246.0      485.688000                1.858837    918.204014    TopCustomers\n",
       "18273.0           2.0    255.0  257.0       71.400000                1.067375     83.924215     Hibernating\n",
       "18283.0          13.0    334.0  337.0      152.436154                3.091222    469.058931   NeedAttention\n",
       "18287.0           2.0    159.0  201.0      493.940000                1.259587    670.235606  LoyalCustomers\n",
       "\n",
       "[1916 rows x 7 columns]"
      ]
     },
     "execution_count": 45,
     "metadata": {},
     "output_type": "execute_result"
    }
   ],
   "source": [
    "clv"
   ]
  },
  {
   "cell_type": "code",
   "execution_count": 47,
   "id": "0da85576",
   "metadata": {},
   "outputs": [
    {
     "data": {
      "text/html": [
       "<div>\n",
       "<style scoped>\n",
       "    .dataframe tbody tr th:only-of-type {\n",
       "        vertical-align: middle;\n",
       "    }\n",
       "\n",
       "    .dataframe tbody tr th {\n",
       "        vertical-align: top;\n",
       "    }\n",
       "\n",
       "    .dataframe thead th {\n",
       "        text-align: right;\n",
       "    }\n",
       "</style>\n",
       "<table border=\"1\" class=\"dataframe\">\n",
       "  <thead>\n",
       "    <tr style=\"text-align: right;\">\n",
       "      <th></th>\n",
       "      <th>frequency</th>\n",
       "      <th>recency</th>\n",
       "      <th>T</th>\n",
       "      <th>monetary_value</th>\n",
       "      <th>expected_purc_3_months</th>\n",
       "      <th>3_months_clv</th>\n",
       "    </tr>\n",
       "    <tr>\n",
       "      <th>CustomerSegment</th>\n",
       "      <th></th>\n",
       "      <th></th>\n",
       "      <th></th>\n",
       "      <th></th>\n",
       "      <th></th>\n",
       "      <th></th>\n",
       "    </tr>\n",
       "  </thead>\n",
       "  <tbody>\n",
       "    <tr>\n",
       "      <th>Hibernating</th>\n",
       "      <td>3.169102</td>\n",
       "      <td>220.565762</td>\n",
       "      <td>291.824635</td>\n",
       "      <td>148.661593</td>\n",
       "      <td>1.276251</td>\n",
       "      <td>187.489547</td>\n",
       "    </tr>\n",
       "    <tr>\n",
       "      <th>NeedAttention</th>\n",
       "      <td>4.018789</td>\n",
       "      <td>239.442589</td>\n",
       "      <td>282.941545</td>\n",
       "      <td>270.869214</td>\n",
       "      <td>1.502015</td>\n",
       "      <td>387.477844</td>\n",
       "    </tr>\n",
       "    <tr>\n",
       "      <th>LoyalCustomers</th>\n",
       "      <td>5.682672</td>\n",
       "      <td>241.569937</td>\n",
       "      <td>273.110647</td>\n",
       "      <td>369.673664</td>\n",
       "      <td>1.917306</td>\n",
       "      <td>648.020197</td>\n",
       "    </tr>\n",
       "    <tr>\n",
       "      <th>TopCustomers</th>\n",
       "      <td>11.244259</td>\n",
       "      <td>264.486430</td>\n",
       "      <td>284.411273</td>\n",
       "      <td>636.264425</td>\n",
       "      <td>3.003776</td>\n",
       "      <td>1733.564181</td>\n",
       "    </tr>\n",
       "  </tbody>\n",
       "</table>\n",
       "</div>"
      ],
      "text/plain": [
       "                 frequency     recency           T  monetary_value  expected_purc_3_months  3_months_clv\n",
       "CustomerSegment                                                                                         \n",
       "Hibernating       3.169102  220.565762  291.824635      148.661593                1.276251    187.489547\n",
       "NeedAttention     4.018789  239.442589  282.941545      270.869214                1.502015    387.477844\n",
       "LoyalCustomers    5.682672  241.569937  273.110647      369.673664                1.917306    648.020197\n",
       "TopCustomers     11.244259  264.486430  284.411273      636.264425                3.003776   1733.564181"
      ]
     },
     "execution_count": 47,
     "metadata": {},
     "output_type": "execute_result"
    }
   ],
   "source": [
    "clv.groupby(['CustomerSegment']).mean()"
   ]
  },
  {
   "cell_type": "code",
   "execution_count": 50,
   "id": "8efc796a",
   "metadata": {},
   "outputs": [
    {
     "data": {
      "text/plain": [
       "<AxesSubplot:xlabel='CustomerSegment'>"
      ]
     },
     "execution_count": 50,
     "metadata": {},
     "output_type": "execute_result"
    },
    {
     "data": {
      "image/png": "[encoded data removed]",
      "text/plain": [
       "<Figure size 720x360 with 1 Axes>"
      ]
     },
     "metadata": {
      "needs_background": "light"
     },
     "output_type": "display_data"
    }
   ],
   "source": [
    "clv.groupby(['CustomerSegment']).monetary_value.sum().plot.bar(figsize=(10,5))"
   ]
  }
 ],
 "metadata": {
  "kernelspec": {
   "display_name": "Python 3",
   "language": "python",
   "name": "python3"
  },
  "language_info": {
   "codemirror_mode": {
    "name": "ipython",
    "version": 3
   },
   "file_extension": ".py",
   "mimetype": "text/x-python",
   "name": "python",
   "nbconvert_exporter": "python",
   "pygments_lexer": "ipython3",
   "version": "3.6.3"
  }
 },
 "nbformat": 4,
 "nbformat_minor": 5
}
